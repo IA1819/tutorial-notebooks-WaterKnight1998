{
  "nbformat": 4,
  "nbformat_minor": 0,
  "metadata": {
    "colab": {
      "name": "Regresion.ipynb",
      "version": "0.3.2",
      "provenance": [],
      "include_colab_link": true
    },
    "kernelspec": {
      "name": "python3",
      "display_name": "Python 3"
    }
  },
  "cells": [
    {
      "cell_type": "markdown",
      "metadata": {
        "id": "view-in-github",
        "colab_type": "text"
      },
      "source": [
        "<a href=\"https://colab.research.google.com/github/IA1819/tutorial-notebooks-WaterKnight1998/blob/master/Regresion.ipynb\" target=\"_parent\"><img src=\"https://colab.research.google.com/assets/colab-badge.svg\" alt=\"Open In Colab\"/></a>"
      ]
    },
    {
      "metadata": {
        "id": "LGpftq2h8sUH",
        "colab_type": "text"
      },
      "cell_type": "markdown",
      "source": [
        "# Actualización pesos regresión lineal\n",
        "\n",
        "Importamos las librerías necesarias para generar los gráficos."
      ]
    },
    {
      "metadata": {
        "id": "36ZRW-8t8UES",
        "colab_type": "code",
        "colab": {}
      },
      "cell_type": "code",
      "source": [
        "import matplotlib.pyplot as plt\n",
        "%matplotlib inline"
      ],
      "execution_count": 0,
      "outputs": []
    },
    {
      "metadata": {
        "id": "FLtRXkRN8HQN",
        "colab_type": "text"
      },
      "cell_type": "markdown",
      "source": [
        "Queremos predecir el modelo $y=2x+1$ y tenemos tres instancias $(x_0,y_0)=(-1,-1)$, $(x_1,y_1)=(0,1)$ y $(x_2,y_2)=(1,3)$"
      ]
    },
    {
      "metadata": {
        "id": "Zv13DxYN8qsQ",
        "colab_type": "code",
        "colab": {}
      },
      "cell_type": "code",
      "source": [
        "x0,y0=(-1,-1)\n",
        "x1,y1=(0,1)\n",
        "x2,y2=(1,3)"
      ],
      "execution_count": 0,
      "outputs": []
    },
    {
      "metadata": {
        "id": "FGdFR_to9IuV",
        "colab_type": "code",
        "colab": {
          "base_uri": "https://localhost:8080/",
          "height": 269
        },
        "outputId": "bea40d9d-2ef9-47ce-e5ce-0cb616352dcf"
      },
      "cell_type": "code",
      "source": [
        "plt.plot([x0,x1,x2], [y0,y1,y2], 'ro')\n",
        "plt.axis([-2, 2,-2, 4])\n",
        "plt.show()"
      ],
      "execution_count": 3,
      "outputs": [
        {
          "output_type": "display_data",
          "data": {
            "image/png": "[encoded data removed]",
            "text/plain": [
              "<Figure size 432x288 with 1 Axes>"
            ]
          },
          "metadata": {
            "tags": []
          }
        }
      ]
    },
    {
      "metadata": {
        "id": "n74JDjZc90sQ",
        "colab_type": "text"
      },
      "cell_type": "markdown",
      "source": [
        "Iniciamos $w = 1$ y $b=0.5$, y fijamos el ratio de aprendizaje $\\alpha=0.1$."
      ]
    },
    {
      "metadata": {
        "id": "GNObr8rk9XB0",
        "colab_type": "code",
        "colab": {}
      },
      "cell_type": "code",
      "source": [
        "w=1\n",
        "b=0.5\n",
        "alpha=5"
      ],
      "execution_count": 0,
      "outputs": []
    },
    {
      "metadata": {
        "id": "qRf_7cqT-AZH",
        "colab_type": "text"
      },
      "cell_type": "markdown",
      "source": [
        "Con esto tenemos el siguiente modelo."
      ]
    },
    {
      "metadata": {
        "id": "sWSSR0-L-Ga-",
        "colab_type": "code",
        "colab": {}
      },
      "cell_type": "code",
      "source": [
        "def regresion(w,b):\n",
        "  return lambda x: w*x+b"
      ],
      "execution_count": 0,
      "outputs": []
    },
    {
      "metadata": {
        "id": "nCL94FGENK_i",
        "colab_type": "code",
        "colab": {
          "base_uri": "https://localhost:8080/",
          "height": 36
        },
        "outputId": "d34975ff-d03b-49a1-f2cd-c8ac709384d4"
      },
      "cell_type": "code",
      "source": [
        "regresion(w,b)(5)"
      ],
      "execution_count": 6,
      "outputs": [
        {
          "output_type": "execute_result",
          "data": {
            "text/plain": [
              "5.5"
            ]
          },
          "metadata": {
            "tags": []
          },
          "execution_count": 6
        }
      ]
    },
    {
      "metadata": {
        "id": "6bqdCp3J_G-o",
        "colab_type": "text"
      },
      "cell_type": "markdown",
      "source": [
        "La función de coste se definiría del siguiente modo recibiendo una lista de pares."
      ]
    },
    {
      "metadata": {
        "id": "953_pJXN-nvr",
        "colab_type": "code",
        "colab": {}
      },
      "cell_type": "code",
      "source": [
        "def coste(w,b):\n",
        "  return lambda lis :  1.0/len(lis) * sum([(regresion(w,b)(x)-y)**2 for (x,y) in lis])"
      ],
      "execution_count": 0,
      "outputs": []
    },
    {
      "metadata": {
        "id": "xeOEvOFs-d78",
        "colab_type": "text"
      },
      "cell_type": "markdown",
      "source": [
        "Dicho modelo, su aproximación y su función de coste se puede ver con la siguiente celda."
      ]
    },
    {
      "metadata": {
        "id": "3SDsNcfW9_5Q",
        "colab_type": "code",
        "colab": {
          "base_uri": "https://localhost:8080/",
          "height": 288
        },
        "outputId": "dafb1ddf-3511-4fe7-974f-851470e2a953"
      },
      "cell_type": "code",
      "source": [
        "plt.plot([x0,x1,x2], [y0,y1,y2], 'ro')\n",
        "plt.plot([-2,2],[regresion(w,b)(-2),regresion(w,b)(2)])\n",
        "plt.axis([-2, 2,-2, 4])\n",
        "plt.show()\n",
        "print(\"Coste: \" + str(coste(w,b)([(x0,y0),(x1,y1),(x2,y2)])))"
      ],
      "execution_count": 14,
      "outputs": [
        {
          "output_type": "display_data",
          "data": {
            "image/png": "[encoded data removed]",
            "text/plain": [
              "<Figure size 432x288 with 1 Axes>"
            ]
          },
          "metadata": {
            "tags": []
          }
        },
        {
          "output_type": "stream",
          "text": [
            "Coste: 0.9166666666666666\n"
          ],
          "name": "stdout"
        }
      ]
    },
    {
      "metadata": {
        "id": "H68xREwPATTh",
        "colab_type": "text"
      },
      "cell_type": "markdown",
      "source": [
        "Actualizamos $w$ y $b$ y volvemos a mostrar la aproximación y el coste. Cada vez que se ejecuta la siguiente celda vamos obteniendo una mejor aproximación y un menor coste. "
      ]
    },
    {
      "metadata": {
        "id": "mKafcNxsB6NA",
        "colab_type": "code",
        "colab": {}
      },
      "cell_type": "code",
      "source": [
        "def actualizaPesos(w,b,alpha,lis):\n",
        "  w1 = w - alpha * (2.0/len(lis)* (-sum([x*(y-regresion(w,b)(x)) for (x,y) in lis])))\n",
        "  b = b - alpha * (2.0/len(lis)* (-sum([(y-regresion(w,b)(x)) for (x,y) in lis])))\n",
        "  w=w1\n",
        "  return (w,b)\n",
        "  "
      ],
      "execution_count": 0,
      "outputs": []
    },
    {
      "metadata": {
        "id": "m2mXvJBvATDZ",
        "colab_type": "code",
        "colab": {
          "base_uri": "https://localhost:8080/",
          "height": 326
        },
        "outputId": "254865b3-fbc3-4000-c8f0-b5dc5c087555"
      },
      "cell_type": "code",
      "source": [
        "w,b=actualizaPesos(w,b,alpha,[(x0,y0),(x1,y1),(x2,y2)])\n",
        "plt.plot([x0,x1,x2], [y0,y1,y2], 'ro')\n",
        "plt.plot([-2,2],[regresion(w,b)(-2),regresion(w,b)(2)])\n",
        "plt.axis([-2, 2,-2, 4])\n",
        "plt.show()\n",
        "print(\"w:\" + str(w))\n",
        "print(\"b:\" + str(b))\n",
        "print(\"Coste: \" + str(coste(w,b)([(x0,y0),(x1,y1),(x2,y2)])))"
      ],
      "execution_count": 10,
      "outputs": [
        {
          "output_type": "display_data",
          "data": {
            "image/png": "[encoded data removed]",
            "text/plain": [
              "<Figure size 432x288 with 1 Axes>"
            ]
          },
          "metadata": {
            "tags": []
          }
        },
        {
          "output_type": "stream",
          "text": [
            "w:1.1333333333333333\n",
            "b:0.6\n",
            "Coste: 0.6607407407407406\n"
          ],
          "name": "stdout"
        }
      ]
    },
    {
      "metadata": {
        "id": "lU1FqjkLAFBM",
        "colab_type": "code",
        "colab": {
          "base_uri": "https://localhost:8080/",
          "height": 6566
        },
        "outputId": "fcf55a6c-62f4-4d07-93a9-b540397e32f7"
      },
      "cell_type": "code",
      "source": [
        "for i in range(0,20):\n",
        "  w,b=actualizaPesos(w,b,alpha,[(x0,y0),(x1,y1),(x2,y2)])\n",
        "  print(\"Iteración \" + str(i+1))\n",
        "  plt.plot([x0,x1,x2], [y0,y1,y2], 'ro')\n",
        "  plt.plot([-2,2],[regresion(w,b)(-2),regresion(w,b)(2)])\n",
        "  plt.axis([-2, 2,-2, 4])\n",
        "  plt.show()\n",
        "  print(\"w:\" + str(w))\n",
        "  print(\"b:\" + str(b))\n",
        "  print(\"Coste: \" + str(coste(w,b)([(x0,y0),(x1,y1),(x2,y2)])))"
      ],
      "execution_count": 17,
      "outputs": [
        {
          "output_type": "stream",
          "text": [
            "Iteración 1\n"
          ],
          "name": "stdout"
        },
        {
          "output_type": "display_data",
          "data": {
            "image/png": "[encoded data removed]",
            "text/plain": [
              "<Figure size 432x288 with 1 Axes>"
            ]
          },
          "metadata": {
            "tags": []
          }
        },
        {
          "output_type": "stream",
          "text": [
            "w:7.666666666666666\n",
            "b:5.5\n",
            "Coste: 41.657407407407405\n",
            "Iteración 2\n"
          ],
          "name": "stdout"
        },
        {
          "output_type": "display_data",
          "data": {
            "image/png": "[encoded data removed]",
            "text/plain": [
              "<Figure size 432x288 with 1 Axes>"
            ]
          },
          "metadata": {
            "tags": []
          }
        },
        {
          "output_type": "stream",
          "text": [
            "w:-30.111111111111107\n",
            "b:-39.5\n",
            "Coste: 2327.6656378600824\n",
            "Iteración 3\n"
          ],
          "name": "stdout"
        },
        {
          "output_type": "display_data",
          "data": {
            "image/png": "[encoded data removed]",
            "text/plain": [
              "<Figure size 432x288 with 1 Axes>"
            ]
          },
          "metadata": {
            "tags": []
          }
        },
        {
          "output_type": "stream",
          "text": [
            "w:183.96296296296296\n",
            "b:365.5\n",
            "Coste: 154933.92992684038\n",
            "Iteración 4\n"
          ],
          "name": "stdout"
        },
        {
          "output_type": "display_data",
          "data": {
            "image/png": "[encoded data removed]",
            "text/plain": [
              "<Figure size 432x288 with 1 Axes>"
            ]
          },
          "metadata": {
            "tags": []
          }
        },
        {
          "output_type": "stream",
          "text": [
            "w:-1029.123456790123\n",
            "b:-3279.5\n",
            "Coste: 11470490.638761874\n",
            "Iteración 5\n"
          ],
          "name": "stdout"
        },
        {
          "output_type": "display_data",
          "data": {
            "image/png": "[encoded data removed]",
            "text/plain": [
              "<Figure size 432x288 with 1 Axes>"
            ]
          },
          "metadata": {
            "tags": []
          }
        },
        {
          "output_type": "stream",
          "text": [
            "w:5845.032921810696\n",
            "b:29525.5\n",
            "Coste: 894456789.4002423\n",
            "Iteración 6\n"
          ],
          "name": "stdout"
        },
        {
          "output_type": "display_data",
          "data": {
            "image/png": "[encoded data removed]",
            "text/plain": [
              "<Figure size 432x288 with 1 Axes>"
            ]
          },
          "metadata": {
            "tags": []
          }
        },
        {
          "output_type": "stream",
          "text": [
            "w:-33108.51989026059\n",
            "b:-265719.5\n",
            "Coste: 71338255138.51889\n",
            "Iteración 7\n"
          ],
          "name": "stdout"
        },
        {
          "output_type": "display_data",
          "data": {
            "image/png": "[encoded data removed]",
            "text/plain": [
              "<Figure size 432x288 with 1 Axes>"
            ]
          },
          "metadata": {
            "tags": []
          }
        },
        {
          "output_type": "stream",
          "text": [
            "w:187628.2793781433\n",
            "b:2391485.5\n",
            "Coste: 5742667194215.773\n",
            "Iteración 8\n"
          ],
          "name": "stdout"
        },
        {
          "output_type": "display_data",
          "data": {
            "image/png": "[encoded data removed]",
            "text/plain": [
              "<Figure size 432x288 with 1 Axes>"
            ]
          },
          "metadata": {
            "tags": []
          }
        },
        {
          "output_type": "stream",
          "text": [
            "w:-1063213.5831428107\n",
            "b:-21523359.5\n",
            "Coste: 464008665463785.4\n",
            "Iteración 9\n"
          ],
          "name": "stdout"
        },
        {
          "output_type": "display_data",
          "data": {
            "image/png": "[encoded data removed]",
            "text/plain": [
              "<Figure size 432x288 with 1 Axes>"
            ]
          },
          "metadata": {
            "tags": []
          }
        },
        {
          "output_type": "stream",
          "text": [
            "w:6024890.304475919\n",
            "b:193710245.5\n",
            "Coste: 3.7547858343637384e+16\n",
            "Iteración 10\n"
          ],
          "name": "stdout"
        },
        {
          "output_type": "display_data",
          "data": {
            "image/png": "[encoded data removed]",
            "text/plain": [
              "<Figure size 432x288 with 1 Axes>"
            ]
          },
          "metadata": {
            "tags": []
          }
        },
        {
          "output_type": "stream",
          "text": [
            "w:-34141031.725363635\n",
            "b:-1743392199.5\n",
            "Coste: 3.040193438220123e+18\n",
            "Iteración 11\n"
          ],
          "name": "stdout"
        },
        {
          "output_type": "display_data",
          "data": {
            "image/png": "[encoded data removed]",
            "text/plain": [
              "<Figure size 432x288 with 1 Axes>"
            ]
          },
          "metadata": {
            "tags": []
          }
        },
        {
          "output_type": "stream",
          "text": [
            "w:193465859.7770612\n",
            "b:15690529805.5\n",
            "Coste: 2.462176782379864e+20\n",
            "Iteración 12\n"
          ],
          "name": "stdout"
        },
        {
          "output_type": "display_data",
          "data": {
            "image/png": "[encoded data removed]",
            "text/plain": [
              "<Figure size 432x288 with 1 Axes>"
            ]
          },
          "metadata": {
            "tags": []
          }
        },
        {
          "output_type": "stream",
          "text": [
            "w:-1096306525.4033484\n",
            "b:-141214768239.5\n",
            "Coste: 1.9942412027886144e+22\n",
            "Iteración 13\n"
          ],
          "name": "stdout"
        },
        {
          "output_type": "display_data",
          "data": {
            "image/png": "[encoded data removed]",
            "text/plain": [
              "<Figure size 432x288 with 1 Axes>"
            ]
          },
          "metadata": {
            "tags": []
          }
        },
        {
          "output_type": "stream",
          "text": [
            "w:6212403657.285656\n",
            "b:1270932914165.5\n",
            "Coste: 1.6152962016127856e+24\n",
            "Iteración 14\n"
          ],
          "name": "stdout"
        },
        {
          "output_type": "display_data",
          "data": {
            "image/png": "[encoded data removed]",
            "text/plain": [
              "<Figure size 432x288 with 1 Axes>"
            ]
          },
          "metadata": {
            "tags": []
          }
        },
        {
          "output_type": "stream",
          "text": [
            "w:-35203620711.28531\n",
            "b:-11438396227479.5\n",
            "Coste: 1.3083773445344767e+26\n",
            "Iteración 15\n"
          ],
          "name": "stdout"
        },
        {
          "output_type": "display_data",
          "data": {
            "image/png": "[encoded data removed]",
            "text/plain": [
              "<Figure size 432x288 with 1 Axes>"
            ]
          },
          "metadata": {
            "tags": []
          }
        },
        {
          "output_type": "stream",
          "text": [
            "w:199487184043.94907\n",
            "b:102945566047325.5\n",
            "Coste: 1.0597816098895112e+28\n",
            "Iteración 16\n"
          ],
          "name": "stdout"
        },
        {
          "output_type": "display_data",
          "data": {
            "image/png": "[encoded data removed]",
            "text/plain": [
              "<Figure size 432x288 with 1 Axes>"
            ]
          },
          "metadata": {
            "tags": []
          }
        },
        {
          "output_type": "stream",
          "text": [
            "w:-1130427376235.7385\n",
            "b:-926510094425919.5\n",
            "Coste: 8.584218069838301e+29\n",
            "Iteración 17\n"
          ],
          "name": "stdout"
        },
        {
          "output_type": "display_data",
          "data": {
            "image/png": "[encoded data removed]",
            "text/plain": [
              "<Figure size 432x288 with 1 Axes>"
            ]
          },
          "metadata": {
            "tags": []
          }
        },
        {
          "output_type": "stream",
          "text": [
            "w:6405755132015.928\n",
            "b:8338590849833284.0\n",
            "Coste: 6.953212471672255e+31\n",
            "Iteración 18\n"
          ],
          "name": "stdout"
        },
        {
          "output_type": "display_data",
          "data": {
            "image/png": "[encoded data removed]",
            "text/plain": [
              "<Figure size 432x288 with 1 Axes>"
            ]
          },
          "metadata": {
            "tags": []
          }
        },
        {
          "output_type": "stream",
          "text": [
            "w:-36299279081410.734\n",
            "b:-7.504731764849954e+16\n",
            "Coste: 5.632100764659897e+33\n",
            "Iteración 19\n"
          ],
          "name": "stdout"
        },
        {
          "output_type": "display_data",
          "data": {
            "image/png": "[encoded data removed]",
            "text/plain": [
              "<Figure size 432x288 with 1 Axes>"
            ]
          },
          "metadata": {
            "tags": []
          }
        },
        {
          "output_type": "stream",
          "text": [
            "w:205695914794642.56\n",
            "b:6.754258588364957e+17\n",
            "Coste: 4.5620011899222406e+35\n",
            "Iteración 20\n"
          ],
          "name": "stdout"
        },
        {
          "output_type": "display_data",
          "data": {
            "image/png": "[encoded data removed]",
            "text/plain": [
              "<Figure size 432x288 with 1 Axes>"
            ]
          },
          "metadata": {
            "tags": []
          }
        },
        {
          "output_type": "stream",
          "text": [
            "w:-1165610183836184.0\n",
            "b:-6.07883272952846e+18\n",
            "Coste: 3.6952208259351164e+37\n"
          ],
          "name": "stdout"
        }
      ]
    },
    {
      "metadata": {
        "id": "EZ6C39okCrrl",
        "colab_type": "code",
        "colab": {}
      },
      "cell_type": "code",
      "source": [
        ""
      ],
      "execution_count": 0,
      "outputs": []
    }
  ]
}