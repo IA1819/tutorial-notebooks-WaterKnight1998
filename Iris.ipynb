{
  "nbformat": 4,
  "nbformat_minor": 0,
  "metadata": {
    "colab": {
      "name": "Iris.ipynb",
      "version": "0.3.2",
      "provenance": [],
      "collapsed_sections": [],
      "include_colab_link": true
    },
    "kernelspec": {
      "name": "python3",
      "display_name": "Python 3"
    }
  },
  "cells": [
    {
      "cell_type": "markdown",
      "metadata": {
        "id": "view-in-github",
        "colab_type": "text"
      },
      "source": [
        "<a href=\"https://colab.research.google.com/github/IA1819/tutorial-notebooks-WaterKnight1998/blob/master/Iris.ipynb\" target=\"_parent\"><img src=\"https://colab.research.google.com/assets/colab-badge.svg\" alt=\"Open In Colab\"/></a>"
      ]
    },
    {
      "metadata": {
        "id": "XfuNqjND9Xd-",
        "colab_type": "text"
      },
      "cell_type": "markdown",
      "source": [
        "# Nuestro primer modelo de clasificación\n",
        "\n",
        "Antes de empezar, pulsa en el botón **Abrir en modo de ensayo** que aparece justo debajo de la barra de herramientas, e inicia sesión con tu cuenta de Google. \n",
        "\n",
        "En este [notebook de Jupyter](https://jupyter.org/) vamos a entrenar el algoritmo KNN para clasificar flores de [Iris](https://www.google.com/search?q=flor+de+iris&source=lnms&tbm=isch&sa=X&ved=0ahUKEwi3pvz3goLhAhUFLBoKHbQvDeMQ_AUIDigB&biw=1853&bih=981) en tres posibles clases (Iris setosa, Iris virginica e Iris versicolor), a partir de información como el ancho y largo del sépalo, y el áncho y largo del pétalo.\n",
        "\n",
        "![alt text](http://latour-marliac.com/323-large_default/iris-versicolor-iris-versicolore.jpg)\n"
      ]
    },
    {
      "metadata": {
        "id": "0GbZ46QE-6vw",
        "colab_type": "text"
      },
      "cell_type": "markdown",
      "source": [
        "## Introducción \n",
        "\n",
        "Los notebooks de Jupyter son una manera de interactuar con el lenguaje de programación Python, uno de los lenguajes más utilizados en el ámbito del aprendizaje automático. Estos notebooks, o cuadernos, mezclan celdas de texto con celdas de código. Lo que estás leyendo es una celda de texto en la cual se da una explicación. La siguiente celda, en la que aparece ``1+2``, es una celda de código que se puede ejecutar. Para ello pincha sobre la celda, verás que a la izquierda de la misma aparece un botón con el símbolo de *play*. Haz click sobre dicho botón. Una vez que hagas click la expresión de la celda (``1+2``) se evaluará y se mostrará el resultado. Después de pulsar el botón *play* aparecerá un número donde antes estaba el botón. Esto indica que se ha ejecutado la instrucción.\n",
        "\n",
        "Las celdas de código se pueden ver como una especie de calculadora donde escribimos el cálculo que queremos realizar, y al pulsar el botón de *play* se ejecuta la instrucción que hayamos introducido. "
      ]
    },
    {
      "metadata": {
        "id": "uL1TkjSU9WCS",
        "colab_type": "code",
        "colab": {}
      },
      "cell_type": "code",
      "source": [
        "1+8"
      ],
      "execution_count": 0,
      "outputs": []
    },
    {
      "metadata": {
        "id": "3IIa2nfIZmiz",
        "colab_type": "text"
      },
      "cell_type": "markdown",
      "source": [
        "Además de los operadores básicos (como la suma, la resta, la división, etc.) existen muchas funciones para realizar cálculos. Por ejemplo, en la siguiente celda aparece la función ``max`` que calcula el máximo de dos números, el 10 y el 3, que se le pasan como parámetros a la función. Prueba a cambiar los números 10 y 3 por los números que tú quieras, y comprueba que al ejecutar la celda se obtiene el resultado esperado."
      ]
    },
    {
      "metadata": {
        "id": "Nz0uY1YMZmOc",
        "colab_type": "code",
        "colab": {}
      },
      "cell_type": "code",
      "source": [
        "max(10,3)"
      ],
      "execution_count": 0,
      "outputs": []
    },
    {
      "metadata": {
        "id": "5aIi3ti3CLu4",
        "colab_type": "text"
      },
      "cell_type": "markdown",
      "source": [
        "## Librerías necesarias\n",
        "La siguiente celda carga las librerías de funciones que serán necesarias para construir nuestro modelo. Por así decirlo estamos extendiendo el número de operaciones que se pueden hacer con nuestra calculadora. \n",
        "\n",
        "**Es importante que ejecutes (hagas click en el botón play) de todas las celdas de código, y en el orden que aparecen en el cuaderno, de lo contrario es posible que las cosas no funcionen de manera correcta**."
      ]
    },
    {
      "metadata": {
        "id": "_zD8QToRDR6Y",
        "colab_type": "code",
        "colab": {}
      },
      "cell_type": "code",
      "source": [
        "from pandas import read_csv\n",
        "from sklearn.model_selection import train_test_split\n",
        "from sklearn.neighbors import KNeighborsClassifier\n",
        "from sklearn.metrics import accuracy_score"
      ],
      "execution_count": 0,
      "outputs": []
    },
    {
      "metadata": {
        "id": "pYs585JYApJg",
        "colab_type": "text"
      },
      "cell_type": "markdown",
      "source": [
        "## Entrenando el modelo\n",
        "\n",
        "Como hemos comentado en las diapositivas, los pasos para entrenar un modelo de clasificación son los siguientes:\n",
        "1. Obtener un dataset.\n",
        "2. Extraer descriptores.\n",
        "3. Partir el dataset.\n",
        "4. Entrenar un modelo.\n",
        "5. Evaluar el modelo.\n",
        "\n",
        "Vamos a ver cada uno de estos pasos.\n",
        "\n"
      ]
    },
    {
      "metadata": {
        "id": "AIZgu6zOCDYL",
        "colab_type": "text"
      },
      "cell_type": "markdown",
      "source": [
        "### 1. Dataset y descriptores\n",
        "\n",
        "Comenzamos descargando nuestro dataset de muestras de flores de iris y extrayendo los descriptores del mismo. En este caso vamos a descargar directamente el dataset de descriptores. Esto es gracias a que alguien (en concreto, el biólogo [Ronald Fisher](https://en.wikipedia.org/wiki/Ronald_Fisher)) se encargó de recoger una gran cantidad de muestras de flores de iris, de medir la anchura y altura del sépalo y del pétalo de cada una de las muestras, y de clasificarlas en tres posibles categorías: Iris setosa, Iris virginica e Iris versicolor.\n",
        "\n",
        "Al ejecutar la siguiente celda se descarga un fichero csv con el [dataset de iris](https://en.wikipedia.org/wiki/Iris_flower_data_set). En concreto lo que está haciendo la siguiente celda es descargar de una página web el fichero iris.csv y guardarlo en la nube donde estamos ejecutando este notebook."
      ]
    },
    {
      "metadata": {
        "id": "6mkvTK1uCCOu",
        "colab_type": "code",
        "colab": {
          "base_uri": "https://localhost:8080/",
          "height": 225
        },
        "outputId": "40b51b42-9c3e-4d4f-826c-7c7fd198ffb3"
      },
      "cell_type": "code",
      "source": [
        "!wget https://raw.githubusercontent.com/IA1819/Datasets/master/iris.csv -O iris.csv"
      ],
      "execution_count": 2,
      "outputs": [
        {
          "output_type": "stream",
          "text": [
            "--2019-03-25 14:25:39--  https://raw.githubusercontent.com/IA1819/Datasets/master/iris.csv\n",
            "Resolving raw.githubusercontent.com (raw.githubusercontent.com)... 151.101.0.133, 151.101.64.133, 151.101.128.133, ...\n",
            "Connecting to raw.githubusercontent.com (raw.githubusercontent.com)|151.101.0.133|:443... connected.\n",
            "HTTP request sent, awaiting response... 200 OK\n",
            "Length: 4606 (4.5K) [text/plain]\n",
            "Saving to: ‘iris.csv’\n",
            "\n",
            "\riris.csv              0%[                    ]       0  --.-KB/s               \riris.csv            100%[===================>]   4.50K  --.-KB/s    in 0s      \n",
            "\n",
            "2019-03-25 14:25:39 (93.4 MB/s) - ‘iris.csv’ saved [4606/4606]\n",
            "\n"
          ],
          "name": "stdout"
        }
      ]
    },
    {
      "metadata": {
        "id": "8EEPyTvyEnGf",
        "colab_type": "text"
      },
      "cell_type": "markdown",
      "source": [
        "A continuación cargamos el dataset de muestras de plantas de iris en una variable, llamada ``dataset``,  usando la instrucción ``read_csv('iris.csv')`` que lo que hace es leer el fichero que hemos descargado en el paso anterior."
      ]
    },
    {
      "metadata": {
        "id": "1K3iEt5nEksB",
        "colab_type": "code",
        "colab": {}
      },
      "cell_type": "code",
      "source": [
        "dataset = read_csv('iris.csv')"
      ],
      "execution_count": 0,
      "outputs": []
    },
    {
      "metadata": {
        "id": "QEqqxXi_FSuj",
        "colab_type": "text"
      },
      "cell_type": "markdown",
      "source": [
        "Al almacenar el dataset en una variable, tenemos una manera sencilla de hacer operaciones sobre el mismo. Por ejemplo, podemos mostrar el valor de esa variable."
      ]
    },
    {
      "metadata": {
        "id": "0lRzV3sjFRtA",
        "colab_type": "code",
        "colab": {
          "base_uri": "https://localhost:8080/",
          "height": 1992
        },
        "outputId": "cc4549e3-09c2-4f86-8703-b680a8efafff"
      },
      "cell_type": "code",
      "source": [
        "dataset"
      ],
      "execution_count": 4,
      "outputs": [
        {
          "output_type": "execute_result",
          "data": {
            "text/html": [
              "<div>\n",
              "<style scoped>\n",
              "    .dataframe tbody tr th:only-of-type {\n",
              "        vertical-align: middle;\n",
              "    }\n",
              "\n",
              "    .dataframe tbody tr th {\n",
              "        vertical-align: top;\n",
              "    }\n",
              "\n",
              "    .dataframe thead th {\n",
              "        text-align: right;\n",
              "    }\n",
              "</style>\n",
              "<table border=\"1\" class=\"dataframe\">\n",
              "  <thead>\n",
              "    <tr style=\"text-align: right;\">\n",
              "      <th></th>\n",
              "      <th>sepal_length</th>\n",
              "      <th>sepal_width</th>\n",
              "      <th>petal_length</th>\n",
              "      <th>petal_width</th>\n",
              "      <th>class</th>\n",
              "    </tr>\n",
              "  </thead>\n",
              "  <tbody>\n",
              "    <tr>\n",
              "      <th>0</th>\n",
              "      <td>5.1</td>\n",
              "      <td>3.5</td>\n",
              "      <td>1.4</td>\n",
              "      <td>0.2</td>\n",
              "      <td>Iris-setosa</td>\n",
              "    </tr>\n",
              "    <tr>\n",
              "      <th>1</th>\n",
              "      <td>4.9</td>\n",
              "      <td>3.0</td>\n",
              "      <td>1.4</td>\n",
              "      <td>0.2</td>\n",
              "      <td>Iris-setosa</td>\n",
              "    </tr>\n",
              "    <tr>\n",
              "      <th>2</th>\n",
              "      <td>4.7</td>\n",
              "      <td>3.2</td>\n",
              "      <td>1.3</td>\n",
              "      <td>0.2</td>\n",
              "      <td>Iris-setosa</td>\n",
              "    </tr>\n",
              "    <tr>\n",
              "      <th>3</th>\n",
              "      <td>4.6</td>\n",
              "      <td>3.1</td>\n",
              "      <td>1.5</td>\n",
              "      <td>0.2</td>\n",
              "      <td>Iris-setosa</td>\n",
              "    </tr>\n",
              "    <tr>\n",
              "      <th>4</th>\n",
              "      <td>5.0</td>\n",
              "      <td>3.6</td>\n",
              "      <td>1.4</td>\n",
              "      <td>0.2</td>\n",
              "      <td>Iris-setosa</td>\n",
              "    </tr>\n",
              "    <tr>\n",
              "      <th>5</th>\n",
              "      <td>5.4</td>\n",
              "      <td>3.9</td>\n",
              "      <td>1.7</td>\n",
              "      <td>0.4</td>\n",
              "      <td>Iris-setosa</td>\n",
              "    </tr>\n",
              "    <tr>\n",
              "      <th>6</th>\n",
              "      <td>4.6</td>\n",
              "      <td>3.4</td>\n",
              "      <td>1.4</td>\n",
              "      <td>0.3</td>\n",
              "      <td>Iris-setosa</td>\n",
              "    </tr>\n",
              "    <tr>\n",
              "      <th>7</th>\n",
              "      <td>5.0</td>\n",
              "      <td>3.4</td>\n",
              "      <td>1.5</td>\n",
              "      <td>0.2</td>\n",
              "      <td>Iris-setosa</td>\n",
              "    </tr>\n",
              "    <tr>\n",
              "      <th>8</th>\n",
              "      <td>4.4</td>\n",
              "      <td>2.9</td>\n",
              "      <td>1.4</td>\n",
              "      <td>0.2</td>\n",
              "      <td>Iris-setosa</td>\n",
              "    </tr>\n",
              "    <tr>\n",
              "      <th>9</th>\n",
              "      <td>4.9</td>\n",
              "      <td>3.1</td>\n",
              "      <td>1.5</td>\n",
              "      <td>0.1</td>\n",
              "      <td>Iris-setosa</td>\n",
              "    </tr>\n",
              "    <tr>\n",
              "      <th>10</th>\n",
              "      <td>5.4</td>\n",
              "      <td>3.7</td>\n",
              "      <td>1.5</td>\n",
              "      <td>0.2</td>\n",
              "      <td>Iris-setosa</td>\n",
              "    </tr>\n",
              "    <tr>\n",
              "      <th>11</th>\n",
              "      <td>4.8</td>\n",
              "      <td>3.4</td>\n",
              "      <td>1.6</td>\n",
              "      <td>0.2</td>\n",
              "      <td>Iris-setosa</td>\n",
              "    </tr>\n",
              "    <tr>\n",
              "      <th>12</th>\n",
              "      <td>4.8</td>\n",
              "      <td>3.0</td>\n",
              "      <td>1.4</td>\n",
              "      <td>0.1</td>\n",
              "      <td>Iris-setosa</td>\n",
              "    </tr>\n",
              "    <tr>\n",
              "      <th>13</th>\n",
              "      <td>4.3</td>\n",
              "      <td>3.0</td>\n",
              "      <td>1.1</td>\n",
              "      <td>0.1</td>\n",
              "      <td>Iris-setosa</td>\n",
              "    </tr>\n",
              "    <tr>\n",
              "      <th>14</th>\n",
              "      <td>5.8</td>\n",
              "      <td>4.0</td>\n",
              "      <td>1.2</td>\n",
              "      <td>0.2</td>\n",
              "      <td>Iris-setosa</td>\n",
              "    </tr>\n",
              "    <tr>\n",
              "      <th>15</th>\n",
              "      <td>5.7</td>\n",
              "      <td>4.4</td>\n",
              "      <td>1.5</td>\n",
              "      <td>0.4</td>\n",
              "      <td>Iris-setosa</td>\n",
              "    </tr>\n",
              "    <tr>\n",
              "      <th>16</th>\n",
              "      <td>5.4</td>\n",
              "      <td>3.9</td>\n",
              "      <td>1.3</td>\n",
              "      <td>0.4</td>\n",
              "      <td>Iris-setosa</td>\n",
              "    </tr>\n",
              "    <tr>\n",
              "      <th>17</th>\n",
              "      <td>5.1</td>\n",
              "      <td>3.5</td>\n",
              "      <td>1.4</td>\n",
              "      <td>0.3</td>\n",
              "      <td>Iris-setosa</td>\n",
              "    </tr>\n",
              "    <tr>\n",
              "      <th>18</th>\n",
              "      <td>5.7</td>\n",
              "      <td>3.8</td>\n",
              "      <td>1.7</td>\n",
              "      <td>0.3</td>\n",
              "      <td>Iris-setosa</td>\n",
              "    </tr>\n",
              "    <tr>\n",
              "      <th>19</th>\n",
              "      <td>5.1</td>\n",
              "      <td>3.8</td>\n",
              "      <td>1.5</td>\n",
              "      <td>0.3</td>\n",
              "      <td>Iris-setosa</td>\n",
              "    </tr>\n",
              "    <tr>\n",
              "      <th>20</th>\n",
              "      <td>5.4</td>\n",
              "      <td>3.4</td>\n",
              "      <td>1.7</td>\n",
              "      <td>0.2</td>\n",
              "      <td>Iris-setosa</td>\n",
              "    </tr>\n",
              "    <tr>\n",
              "      <th>21</th>\n",
              "      <td>5.1</td>\n",
              "      <td>3.7</td>\n",
              "      <td>1.5</td>\n",
              "      <td>0.4</td>\n",
              "      <td>Iris-setosa</td>\n",
              "    </tr>\n",
              "    <tr>\n",
              "      <th>22</th>\n",
              "      <td>4.6</td>\n",
              "      <td>3.6</td>\n",
              "      <td>1.0</td>\n",
              "      <td>0.2</td>\n",
              "      <td>Iris-setosa</td>\n",
              "    </tr>\n",
              "    <tr>\n",
              "      <th>23</th>\n",
              "      <td>5.1</td>\n",
              "      <td>3.3</td>\n",
              "      <td>1.7</td>\n",
              "      <td>0.5</td>\n",
              "      <td>Iris-setosa</td>\n",
              "    </tr>\n",
              "    <tr>\n",
              "      <th>24</th>\n",
              "      <td>4.8</td>\n",
              "      <td>3.4</td>\n",
              "      <td>1.9</td>\n",
              "      <td>0.2</td>\n",
              "      <td>Iris-setosa</td>\n",
              "    </tr>\n",
              "    <tr>\n",
              "      <th>25</th>\n",
              "      <td>5.0</td>\n",
              "      <td>3.0</td>\n",
              "      <td>1.6</td>\n",
              "      <td>0.2</td>\n",
              "      <td>Iris-setosa</td>\n",
              "    </tr>\n",
              "    <tr>\n",
              "      <th>26</th>\n",
              "      <td>5.0</td>\n",
              "      <td>3.4</td>\n",
              "      <td>1.6</td>\n",
              "      <td>0.4</td>\n",
              "      <td>Iris-setosa</td>\n",
              "    </tr>\n",
              "    <tr>\n",
              "      <th>27</th>\n",
              "      <td>5.2</td>\n",
              "      <td>3.5</td>\n",
              "      <td>1.5</td>\n",
              "      <td>0.2</td>\n",
              "      <td>Iris-setosa</td>\n",
              "    </tr>\n",
              "    <tr>\n",
              "      <th>28</th>\n",
              "      <td>5.2</td>\n",
              "      <td>3.4</td>\n",
              "      <td>1.4</td>\n",
              "      <td>0.2</td>\n",
              "      <td>Iris-setosa</td>\n",
              "    </tr>\n",
              "    <tr>\n",
              "      <th>29</th>\n",
              "      <td>4.7</td>\n",
              "      <td>3.2</td>\n",
              "      <td>1.6</td>\n",
              "      <td>0.2</td>\n",
              "      <td>Iris-setosa</td>\n",
              "    </tr>\n",
              "    <tr>\n",
              "      <th>...</th>\n",
              "      <td>...</td>\n",
              "      <td>...</td>\n",
              "      <td>...</td>\n",
              "      <td>...</td>\n",
              "      <td>...</td>\n",
              "    </tr>\n",
              "    <tr>\n",
              "      <th>120</th>\n",
              "      <td>6.9</td>\n",
              "      <td>3.2</td>\n",
              "      <td>5.7</td>\n",
              "      <td>2.3</td>\n",
              "      <td>Iris-virginica</td>\n",
              "    </tr>\n",
              "    <tr>\n",
              "      <th>121</th>\n",
              "      <td>5.6</td>\n",
              "      <td>2.8</td>\n",
              "      <td>4.9</td>\n",
              "      <td>2.0</td>\n",
              "      <td>Iris-virginica</td>\n",
              "    </tr>\n",
              "    <tr>\n",
              "      <th>122</th>\n",
              "      <td>7.7</td>\n",
              "      <td>2.8</td>\n",
              "      <td>6.7</td>\n",
              "      <td>2.0</td>\n",
              "      <td>Iris-virginica</td>\n",
              "    </tr>\n",
              "    <tr>\n",
              "      <th>123</th>\n",
              "      <td>6.3</td>\n",
              "      <td>2.7</td>\n",
              "      <td>4.9</td>\n",
              "      <td>1.8</td>\n",
              "      <td>Iris-virginica</td>\n",
              "    </tr>\n",
              "    <tr>\n",
              "      <th>124</th>\n",
              "      <td>6.7</td>\n",
              "      <td>3.3</td>\n",
              "      <td>5.7</td>\n",
              "      <td>2.1</td>\n",
              "      <td>Iris-virginica</td>\n",
              "    </tr>\n",
              "    <tr>\n",
              "      <th>125</th>\n",
              "      <td>7.2</td>\n",
              "      <td>3.2</td>\n",
              "      <td>6.0</td>\n",
              "      <td>1.8</td>\n",
              "      <td>Iris-virginica</td>\n",
              "    </tr>\n",
              "    <tr>\n",
              "      <th>126</th>\n",
              "      <td>6.2</td>\n",
              "      <td>2.8</td>\n",
              "      <td>4.8</td>\n",
              "      <td>1.8</td>\n",
              "      <td>Iris-virginica</td>\n",
              "    </tr>\n",
              "    <tr>\n",
              "      <th>127</th>\n",
              "      <td>6.1</td>\n",
              "      <td>3.0</td>\n",
              "      <td>4.9</td>\n",
              "      <td>1.8</td>\n",
              "      <td>Iris-virginica</td>\n",
              "    </tr>\n",
              "    <tr>\n",
              "      <th>128</th>\n",
              "      <td>6.4</td>\n",
              "      <td>2.8</td>\n",
              "      <td>5.6</td>\n",
              "      <td>2.1</td>\n",
              "      <td>Iris-virginica</td>\n",
              "    </tr>\n",
              "    <tr>\n",
              "      <th>129</th>\n",
              "      <td>7.2</td>\n",
              "      <td>3.0</td>\n",
              "      <td>5.8</td>\n",
              "      <td>1.6</td>\n",
              "      <td>Iris-virginica</td>\n",
              "    </tr>\n",
              "    <tr>\n",
              "      <th>130</th>\n",
              "      <td>7.4</td>\n",
              "      <td>2.8</td>\n",
              "      <td>6.1</td>\n",
              "      <td>1.9</td>\n",
              "      <td>Iris-virginica</td>\n",
              "    </tr>\n",
              "    <tr>\n",
              "      <th>131</th>\n",
              "      <td>7.9</td>\n",
              "      <td>3.8</td>\n",
              "      <td>6.4</td>\n",
              "      <td>2.0</td>\n",
              "      <td>Iris-virginica</td>\n",
              "    </tr>\n",
              "    <tr>\n",
              "      <th>132</th>\n",
              "      <td>6.4</td>\n",
              "      <td>2.8</td>\n",
              "      <td>5.6</td>\n",
              "      <td>2.2</td>\n",
              "      <td>Iris-virginica</td>\n",
              "    </tr>\n",
              "    <tr>\n",
              "      <th>133</th>\n",
              "      <td>6.3</td>\n",
              "      <td>2.8</td>\n",
              "      <td>5.1</td>\n",
              "      <td>1.5</td>\n",
              "      <td>Iris-virginica</td>\n",
              "    </tr>\n",
              "    <tr>\n",
              "      <th>134</th>\n",
              "      <td>6.1</td>\n",
              "      <td>2.6</td>\n",
              "      <td>5.6</td>\n",
              "      <td>1.4</td>\n",
              "      <td>Iris-virginica</td>\n",
              "    </tr>\n",
              "    <tr>\n",
              "      <th>135</th>\n",
              "      <td>7.7</td>\n",
              "      <td>3.0</td>\n",
              "      <td>6.1</td>\n",
              "      <td>2.3</td>\n",
              "      <td>Iris-virginica</td>\n",
              "    </tr>\n",
              "    <tr>\n",
              "      <th>136</th>\n",
              "      <td>6.3</td>\n",
              "      <td>3.4</td>\n",
              "      <td>5.6</td>\n",
              "      <td>2.4</td>\n",
              "      <td>Iris-virginica</td>\n",
              "    </tr>\n",
              "    <tr>\n",
              "      <th>137</th>\n",
              "      <td>6.4</td>\n",
              "      <td>3.1</td>\n",
              "      <td>5.5</td>\n",
              "      <td>1.8</td>\n",
              "      <td>Iris-virginica</td>\n",
              "    </tr>\n",
              "    <tr>\n",
              "      <th>138</th>\n",
              "      <td>6.0</td>\n",
              "      <td>3.0</td>\n",
              "      <td>4.8</td>\n",
              "      <td>1.8</td>\n",
              "      <td>Iris-virginica</td>\n",
              "    </tr>\n",
              "    <tr>\n",
              "      <th>139</th>\n",
              "      <td>6.9</td>\n",
              "      <td>3.1</td>\n",
              "      <td>5.4</td>\n",
              "      <td>2.1</td>\n",
              "      <td>Iris-virginica</td>\n",
              "    </tr>\n",
              "    <tr>\n",
              "      <th>140</th>\n",
              "      <td>6.7</td>\n",
              "      <td>3.1</td>\n",
              "      <td>5.6</td>\n",
              "      <td>2.4</td>\n",
              "      <td>Iris-virginica</td>\n",
              "    </tr>\n",
              "    <tr>\n",
              "      <th>141</th>\n",
              "      <td>6.9</td>\n",
              "      <td>3.1</td>\n",
              "      <td>5.1</td>\n",
              "      <td>2.3</td>\n",
              "      <td>Iris-virginica</td>\n",
              "    </tr>\n",
              "    <tr>\n",
              "      <th>142</th>\n",
              "      <td>5.8</td>\n",
              "      <td>2.7</td>\n",
              "      <td>5.1</td>\n",
              "      <td>1.9</td>\n",
              "      <td>Iris-virginica</td>\n",
              "    </tr>\n",
              "    <tr>\n",
              "      <th>143</th>\n",
              "      <td>6.8</td>\n",
              "      <td>3.2</td>\n",
              "      <td>5.9</td>\n",
              "      <td>2.3</td>\n",
              "      <td>Iris-virginica</td>\n",
              "    </tr>\n",
              "    <tr>\n",
              "      <th>144</th>\n",
              "      <td>6.7</td>\n",
              "      <td>3.3</td>\n",
              "      <td>5.7</td>\n",
              "      <td>2.5</td>\n",
              "      <td>Iris-virginica</td>\n",
              "    </tr>\n",
              "    <tr>\n",
              "      <th>145</th>\n",
              "      <td>6.7</td>\n",
              "      <td>3.0</td>\n",
              "      <td>5.2</td>\n",
              "      <td>2.3</td>\n",
              "      <td>Iris-virginica</td>\n",
              "    </tr>\n",
              "    <tr>\n",
              "      <th>146</th>\n",
              "      <td>6.3</td>\n",
              "      <td>2.5</td>\n",
              "      <td>5.0</td>\n",
              "      <td>1.9</td>\n",
              "      <td>Iris-virginica</td>\n",
              "    </tr>\n",
              "    <tr>\n",
              "      <th>147</th>\n",
              "      <td>6.5</td>\n",
              "      <td>3.0</td>\n",
              "      <td>5.2</td>\n",
              "      <td>2.0</td>\n",
              "      <td>Iris-virginica</td>\n",
              "    </tr>\n",
              "    <tr>\n",
              "      <th>148</th>\n",
              "      <td>6.2</td>\n",
              "      <td>3.4</td>\n",
              "      <td>5.4</td>\n",
              "      <td>2.3</td>\n",
              "      <td>Iris-virginica</td>\n",
              "    </tr>\n",
              "    <tr>\n",
              "      <th>149</th>\n",
              "      <td>5.9</td>\n",
              "      <td>3.0</td>\n",
              "      <td>5.1</td>\n",
              "      <td>1.8</td>\n",
              "      <td>Iris-virginica</td>\n",
              "    </tr>\n",
              "  </tbody>\n",
              "</table>\n",
              "<p>150 rows × 5 columns</p>\n",
              "</div>"
            ],
            "text/plain": [
              "     sepal_length  sepal_width  petal_length  petal_width           class\n",
              "0             5.1          3.5           1.4          0.2     Iris-setosa\n",
              "1             4.9          3.0           1.4          0.2     Iris-setosa\n",
              "2             4.7          3.2           1.3          0.2     Iris-setosa\n",
              "3             4.6          3.1           1.5          0.2     Iris-setosa\n",
              "4             5.0          3.6           1.4          0.2     Iris-setosa\n",
              "5             5.4          3.9           1.7          0.4     Iris-setosa\n",
              "6             4.6          3.4           1.4          0.3     Iris-setosa\n",
              "7             5.0          3.4           1.5          0.2     Iris-setosa\n",
              "8             4.4          2.9           1.4          0.2     Iris-setosa\n",
              "9             4.9          3.1           1.5          0.1     Iris-setosa\n",
              "10            5.4          3.7           1.5          0.2     Iris-setosa\n",
              "11            4.8          3.4           1.6          0.2     Iris-setosa\n",
              "12            4.8          3.0           1.4          0.1     Iris-setosa\n",
              "13            4.3          3.0           1.1          0.1     Iris-setosa\n",
              "14            5.8          4.0           1.2          0.2     Iris-setosa\n",
              "15            5.7          4.4           1.5          0.4     Iris-setosa\n",
              "16            5.4          3.9           1.3          0.4     Iris-setosa\n",
              "17            5.1          3.5           1.4          0.3     Iris-setosa\n",
              "18            5.7          3.8           1.7          0.3     Iris-setosa\n",
              "19            5.1          3.8           1.5          0.3     Iris-setosa\n",
              "20            5.4          3.4           1.7          0.2     Iris-setosa\n",
              "21            5.1          3.7           1.5          0.4     Iris-setosa\n",
              "22            4.6          3.6           1.0          0.2     Iris-setosa\n",
              "23            5.1          3.3           1.7          0.5     Iris-setosa\n",
              "24            4.8          3.4           1.9          0.2     Iris-setosa\n",
              "25            5.0          3.0           1.6          0.2     Iris-setosa\n",
              "26            5.0          3.4           1.6          0.4     Iris-setosa\n",
              "27            5.2          3.5           1.5          0.2     Iris-setosa\n",
              "28            5.2          3.4           1.4          0.2     Iris-setosa\n",
              "29            4.7          3.2           1.6          0.2     Iris-setosa\n",
              "..            ...          ...           ...          ...             ...\n",
              "120           6.9          3.2           5.7          2.3  Iris-virginica\n",
              "121           5.6          2.8           4.9          2.0  Iris-virginica\n",
              "122           7.7          2.8           6.7          2.0  Iris-virginica\n",
              "123           6.3          2.7           4.9          1.8  Iris-virginica\n",
              "124           6.7          3.3           5.7          2.1  Iris-virginica\n",
              "125           7.2          3.2           6.0          1.8  Iris-virginica\n",
              "126           6.2          2.8           4.8          1.8  Iris-virginica\n",
              "127           6.1          3.0           4.9          1.8  Iris-virginica\n",
              "128           6.4          2.8           5.6          2.1  Iris-virginica\n",
              "129           7.2          3.0           5.8          1.6  Iris-virginica\n",
              "130           7.4          2.8           6.1          1.9  Iris-virginica\n",
              "131           7.9          3.8           6.4          2.0  Iris-virginica\n",
              "132           6.4          2.8           5.6          2.2  Iris-virginica\n",
              "133           6.3          2.8           5.1          1.5  Iris-virginica\n",
              "134           6.1          2.6           5.6          1.4  Iris-virginica\n",
              "135           7.7          3.0           6.1          2.3  Iris-virginica\n",
              "136           6.3          3.4           5.6          2.4  Iris-virginica\n",
              "137           6.4          3.1           5.5          1.8  Iris-virginica\n",
              "138           6.0          3.0           4.8          1.8  Iris-virginica\n",
              "139           6.9          3.1           5.4          2.1  Iris-virginica\n",
              "140           6.7          3.1           5.6          2.4  Iris-virginica\n",
              "141           6.9          3.1           5.1          2.3  Iris-virginica\n",
              "142           5.8          2.7           5.1          1.9  Iris-virginica\n",
              "143           6.8          3.2           5.9          2.3  Iris-virginica\n",
              "144           6.7          3.3           5.7          2.5  Iris-virginica\n",
              "145           6.7          3.0           5.2          2.3  Iris-virginica\n",
              "146           6.3          2.5           5.0          1.9  Iris-virginica\n",
              "147           6.5          3.0           5.2          2.0  Iris-virginica\n",
              "148           6.2          3.4           5.4          2.3  Iris-virginica\n",
              "149           5.9          3.0           5.1          1.8  Iris-virginica\n",
              "\n",
              "[150 rows x 5 columns]"
            ]
          },
          "metadata": {
            "tags": []
          },
          "execution_count": 4
        }
      ]
    },
    {
      "metadata": {
        "id": "MgwJp8vwG16V",
        "colab_type": "text"
      },
      "cell_type": "markdown",
      "source": [
        "El resultado de ejecutar la expresión anterior es una tabla donde cada fila representa una muestra de flor de iris (una *instancia*), y cada columna de esa fila da una propiedad de esa muestra.  Una columna destacada es **class** que nos indica la clase de flor de iris de la muestra.\n",
        "\n",
        "Como hemos comentado anteriormente, nuestro objetivo es crear un modelo que usando KNN sea capaz de predecir la clase a partir de la información de ancho y alto de sépalo y pétalo (es decir, a partir de los descriptores de la muestra)."
      ]
    },
    {
      "metadata": {
        "id": "QL8ToDNoILnz",
        "colab_type": "text"
      },
      "cell_type": "markdown",
      "source": [
        "En la tabla anterior tenemos juntos los descriptores y la clase de cada muestra, pero los algoritmos de aprendizaje automático necesitan recibirlos por separado. Eso es lo que hacemos al ejecutar la siguiente celda. En concreto nos creamos dos variables llamadas ``descriptores`` y ``clases`` que almacenan, respectivamente, los descriptores y las clase de cada muestra. \n",
        "\n",
        "Para ser más concretos, en ``descriptores`` almacenamos la tabla anterior eliminando la última columna, y en ``clases`` almacenamos la última columna de la tabla."
      ]
    },
    {
      "metadata": {
        "id": "zYpOM5JfIKDj",
        "colab_type": "code",
        "colab": {}
      },
      "cell_type": "code",
      "source": [
        "descriptores = dataset.values[:,0:-1]"
      ],
      "execution_count": 0,
      "outputs": []
    },
    {
      "metadata": {
        "id": "PzpVD9lgWhPl",
        "colab_type": "code",
        "colab": {}
      },
      "cell_type": "code",
      "source": [
        "clases = dataset.values[:,-1]"
      ],
      "execution_count": 0,
      "outputs": []
    },
    {
      "metadata": {
        "id": "dLgSavHuHkby",
        "colab_type": "text"
      },
      "cell_type": "markdown",
      "source": [
        "### 2. Partiendo el dataset.\n",
        "\n",
        "Ahora vamos a partir el dataset en dos bloques: uno que utilizaremos para entrenar (el *conjunto de entrenamiento*) y otro que utilizaremos para evaluar el rendimiento del modelo que entrenemos (el *conjunto de test*).\n",
        "\n",
        "Para ello vamos a utilizar la función ``train_test_split`` que recibe los descriptores y las clases y las divide en dos grupos usando un porcentaje. En concreto en este caso vamos a usar el 75% de los datos para entrenar y el 25% para probar, estos son los valores por defecto utilizados por la función ``train_test_split``. También a la función  ``train_test_split`` le pasamos un valor llamado ``random_state`` que sirve para poder reproducir los resultados (de lo contrario cada vez que probáramos este notebook obtendríamos una partición distinta, ya que dicha partición se realiza de manera aleatoria), a este valor se le llama [semilla](https://en.wikipedia.org/wiki/Random_seed).\n",
        "\n",
        "La instrucción  ``train_test_split`` devuelve 4 valores que son los descriptores del conjunto de entrenamiento, las clases del conjunto de entrenamiento, los descriptores del conjunto de test, y las clases del conjunto de test. Almacenamos dichos valores en las variables correspondientes."
      ]
    },
    {
      "metadata": {
        "id": "Zf9YQBP-G0GI",
        "colab_type": "code",
        "colab": {}
      },
      "cell_type": "code",
      "source": [
        "descriptores_entrenamiento, descriptores_test, clases_entrenamiento, clases_test = train_test_split(descriptores,clases,test_size =.1,random_state=42)"
      ],
      "execution_count": 0,
      "outputs": []
    },
    {
      "metadata": {
        "id": "MCuMaCZgYMKY",
        "colab_type": "text"
      },
      "cell_type": "markdown",
      "source": [
        "### 3. Entrenando el modelo\n",
        "\n",
        "El siguiente paso consite en entrenar el modelo. Para ello lo primero que vamos a hacer es almacenar en la variable ``knn`` el clasificador KNN. \n",
        "\n"
      ]
    },
    {
      "metadata": {
        "id": "slnau1RtYFQ2",
        "colab_type": "code",
        "colab": {}
      },
      "cell_type": "code",
      "source": [
        "knn = KNeighborsClassifier(n_neighbors=1)"
      ],
      "execution_count": 0,
      "outputs": []
    },
    {
      "metadata": {
        "id": "SMY0uytGY31W",
        "colab_type": "text"
      },
      "cell_type": "markdown",
      "source": [
        "En un primer momento este clasificador no sabe nada, y aprenderá cuando lo entrenemos con nuestro dataset. Esta manera de trabajar permite entrenar el mismo clasificador con distintos datasets de manera sencilla.\n",
        "\n",
        "A continuación mostramos cómo se realiza el entrenamiento, que consite en llamar a la función ``fit`` pasándole como parámetros los descriptores y las clases de entrenamiento. "
      ]
    },
    {
      "metadata": {
        "id": "seyNPQtBY1Tp",
        "colab_type": "code",
        "colab": {
          "base_uri": "https://localhost:8080/",
          "height": 74
        },
        "outputId": "061c2ac0-f0cc-45dd-e803-8157140e41d0"
      },
      "cell_type": "code",
      "source": [
        "knn.fit(descriptores_entrenamiento,clases_entrenamiento)"
      ],
      "execution_count": 10,
      "outputs": [
        {
          "output_type": "execute_result",
          "data": {
            "text/plain": [
              "KNeighborsClassifier(algorithm='auto', leaf_size=30, metric='minkowski',\n",
              "           metric_params=None, n_jobs=None, n_neighbors=1, p=2,\n",
              "           weights='uniform')"
            ]
          },
          "metadata": {
            "tags": []
          },
          "execution_count": 10
        }
      ]
    },
    {
      "metadata": {
        "id": "8oPqA_EvaLCY",
        "colab_type": "text"
      },
      "cell_type": "markdown",
      "source": [
        "Ya hemos entrenado nuestro modelo :-)\n",
        "\n",
        "Ahora queda probarlo para ver qué tal funciona."
      ]
    },
    {
      "metadata": {
        "id": "aC8fAM76aU-U",
        "colab_type": "text"
      },
      "cell_type": "markdown",
      "source": [
        "### 4. Evaluando el modelo\n",
        "\n",
        "A continuación vamos a ver es cómo evaluar el rendimiento del modelo con datos que no ha visto hasta ahora, para ello usaremos el conjunto de test, y calcularemos su *accuracy* (número de aciertos entre número total de predicciones). \n",
        "\n",
        "Para ello utilizamos la función ``accuracy_score`` que recibe como parámetro las clases del conjunto de test (es decir el resultado esperado) y las clases predichas por nuestro clasificador (obtenidas mediante la instrucción ``knn.predict(descriptores_test)``)."
      ]
    },
    {
      "metadata": {
        "id": "HsHL67s5ZVuJ",
        "colab_type": "code",
        "colab": {
          "base_uri": "https://localhost:8080/",
          "height": 36
        },
        "outputId": "1b4c7cdf-f5a9-4b2e-ea6a-0d92a346cf2e"
      },
      "cell_type": "code",
      "source": [
        "accuracy_score(clases_test,knn.predict(descriptores_test))"
      ],
      "execution_count": 11,
      "outputs": [
        {
          "output_type": "execute_result",
          "data": {
            "text/plain": [
              "1.0"
            ]
          },
          "metadata": {
            "tags": []
          },
          "execution_count": 11
        }
      ]
    },
    {
      "metadata": {
        "id": "5gi7fss-b2tS",
        "colab_type": "text"
      },
      "cell_type": "markdown",
      "source": [
        "Hemos obtenido una *accuracy* del 100%. Es decir, que para nuestro conjunto de test, el clasificador que hemos construido acierta siempre. Esto  es algo poco habitual, pero que en este caso, al ser un dataset pequeño y sencillo es posible.   "
      ]
    },
    {
      "metadata": {
        "id": "yf6nTh0_ITpM",
        "colab_type": "text"
      },
      "cell_type": "markdown",
      "source": [
        "### 5. Usando el modelo\n",
        "\n",
        "Una vez que hemos entrenado nuestro modelo y hemos visto que funciona bien en el conjunto de test, podemos pasar a utilizarlo para predecir la clase de nuevas muestras. \n",
        "\n",
        "Por ejemplo, si tenemos una nueva muestra con largo de sépalo 5.2, ancho de sépalo 3.3, largo de pétalo 1.6, y ancho de pétalo 0.5; podemos pedirle al modelo que nos diga a la clase que pertenece dicha muestra del siguiente modo:"
      ]
    },
    {
      "metadata": {
        "id": "aGz71KfkITVc",
        "colab_type": "code",
        "colab": {
          "base_uri": "https://localhost:8080/",
          "height": 36
        },
        "outputId": "f62d394f-afcb-4609-e25f-748113e9e1f7"
      },
      "cell_type": "code",
      "source": [
        "knn.predict([[5.2,3.3,1.6,0.5]])"
      ],
      "execution_count": 12,
      "outputs": [
        {
          "output_type": "execute_result",
          "data": {
            "text/plain": [
              "array(['Iris-setosa'], dtype=object)"
            ]
          },
          "metadata": {
            "tags": []
          },
          "execution_count": 12
        }
      ]
    },
    {
      "metadata": {
        "id": "kcyEb-IHccv2",
        "colab_type": "text"
      },
      "cell_type": "markdown",
      "source": [
        "-----\n",
        "Fin"
      ]
    }
  ]
}